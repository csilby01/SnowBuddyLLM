{
 "cells": [
  {
   "cell_type": "markdown",
   "id": "7bbd836a",
   "metadata": {},
   "source": [
    "We will create auto generated captions for youtube videos.\n",
    "\n",
    "Tasks:\n",
    "- create a function to return the plain text captions from a video link\n",
    "- collect all of the desired YT links\n",
    "- generate and store captions for all desired videos"
   ]
  },
  {
   "cell_type": "code",
   "execution_count": null,
   "id": "0e4ff760",
   "metadata": {},
   "outputs": [],
   "source": [
    "#function i ripped straight from chatGPT\n",
    "def get_auto_captions(video_url, lang='en'):\n",
    "    ydl_opts = {\n",
    "        'skip_download': True,  # Don't download the video\n",
    "        'writesubtitles': True,\n",
    "        'writeautomaticsub': True,  # Auto-generated subs\n",
    "        'subtitleslangs': [lang],\n",
    "        'outtmpl': '-',  # No file output\n",
    "        'quiet': True,\n",
    "    }\n",
    "\n",
    "    with YoutubeDL(ydl_opts) as ydl:\n",
    "        info = ydl.extract_info(video_url, download=False)  # Extract metadata only\n",
    "        subtitles = info.get('subtitles') or info.get('automatic_captions')\n",
    "        \n",
    "        if not subtitles or lang not in subtitles:\n",
    "            print(\"No subtitles found.\")\n",
    "            return None\n",
    "        \n",
    "        # Fetch the first subtitle URL\n",
    "        subtitle_url = subtitles[lang][0]['url']\n",
    "        \n",
    "        # Download subtitle data\n",
    "        response = requests.get(subtitle_url)\n",
    "        \n",
    "        if response.status_code != 200:\n",
    "            return response.text  # Returns the caption content as text\n",
    "        try:\n",
    "            data = json.loads(response.text)\n",
    "        except json.JSONDecodeError:\n",
    "            print(\"Failed to parse subtitle JSON.\")\n",
    "            return None\n",
    "\n",
    "        # Extract all UTF-8 text snippets\n",
    "        replacements = {\n",
    "            \"battalion\": \" Bataleon\",\n",
    "            \"rosal\": \" Rossignol\",\n",
    "            \"ganu\": \" GNU\",\n",
    "            \"baru\": \" Biru\"\n",
    "        }\n",
    "\n",
    "        lines = []\n",
    "        for event in data.get('events', []):\n",
    "            if 'segs' in event:\n",
    "                line = ''\n",
    "                for seg in event['segs']:\n",
    "                    word = seg.get('utf8', '')\n",
    "                    lower_word = word.lower().strip()\n",
    "                    replaced_word = replacements.get(lower_word, word)\n",
    "                    line += replaced_word\n",
    "                lines.append(line.strip())\n",
    "\n",
    "        return ' '.join(lines)"
   ]
  },
  {
   "cell_type": "code",
   "execution_count": null,
   "id": "8cb4a7d1",
   "metadata": {},
   "outputs": [],
   "source": [
    "videos = scrapetube.get_channel(\"UCgHN8SXc6GXm8-Rx0pjWGIw\", limit = 1000) #channel ID\n",
    "main_link = \"https://www.youtube.com/watch?v=\"\n",
    "video_captions = []\n",
    "for video in videos:\n",
    "    caption = get_auto_captions(main_link + video['videoId'])\n",
    "    if caption is not None:\n",
    "        video_captions.append(video['title']['runs'][0]['text'] + \": \" + caption)"
   ]
  }
 ],
 "metadata": {
  "language_info": {
   "name": "python"
  }
 },
 "nbformat": 4,
 "nbformat_minor": 5
}
