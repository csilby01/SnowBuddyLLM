{
 "cells": [
  {
   "cell_type": "code",
   "execution_count": null,
   "id": "61966446",
   "metadata": {},
   "outputs": [],
   "source": [
    "import pandas as pd\n",
    "import numpy as np\n",
    "import json\n",
    "import requests\n",
    "import transformers\n",
    "from transformers import pipeline, AutoTokenizer, Gemma3ForCausalLM, GenerationConfig, AutoModelForCausalLM\n",
    "from datasets import load_dataset\n",
    "from sentence_transformers import SentenceTransformer\n",
    "\n",
    "import torch\n",
    "import evaluate\n",
    "import time\n",
    "\n",
    "from tqdm import tqdm\n",
    "tqdm.pandas()"
   ]
  },
  {
   "cell_type": "code",
   "execution_count": null,
   "id": "86226730",
   "metadata": {},
   "outputs": [
    {
     "name": "stderr",
     "output_type": "stream",
     "text": [
      "Loading checkpoint shards: 100%|██████████| 2/2 [00:01<00:00,  1.13it/s]\n",
      "Device set to use cuda:0\n"
     ]
    }
   ],
   "source": [
    "model_id = \"google/gemma-2b-it\"\n",
    "\n",
    "# Load tokenizer and model\n",
    "tokenizer = AutoTokenizer.from_pretrained(model_id)\n",
    "model = AutoModelForCausalLM.from_pretrained(model_id)\n",
    "\n",
    "# Inference pipeline\n",
    "chat = pipeline(\"text-generation\", model=model, tokenizer=tokenizer)"
   ]
  },
  {
   "cell_type": "code",
   "execution_count": null,
   "id": "b8fbef38",
   "metadata": {},
   "outputs": [
    {
     "data": {
      "text/plain": [
       "487"
      ]
     },
     "execution_count": 64,
     "metadata": {},
     "output_type": "execute_result"
    }
   ],
   "source": [
    "dataset = load_dataset(\"json\", data_files = \"products.json\")\n",
    "product_data=dataset[\"train\"].to_list()\n",
    "encode_model = SentenceTransformer(\"all-MiniLM-L6-v2\", trust_remote_code=True)\n",
    "products = [f\"{item['name']}: {item['description']}\" for item in product_data]\n",
    "productnames = [f\"{item['name']}\" for item in product_data]\n",
    "products_embed = encode_model.encode(productnames, normalize_embeddings=True)"
   ]
  },
  {
   "cell_type": "code",
   "execution_count": null,
   "id": "cadf536f",
   "metadata": {},
   "outputs": [],
   "source": [
    "def get_RAG_prompt(products, query, products_embed, e_model, topI = 2):\n",
    "    query_embed = e_model.encode(query, normalize_embeddings=True)\n",
    "    similarities = np.dot(products_embed, query_embed.T)\n",
    "    top_I_index = np.argsort(similarities, axis = 0)[-topI:][::-1].tolist()\n",
    "    most_similar_docs = [products[i] for i in top_I_index]\n",
    "    prompt = f\"\"\"\n",
    "    You are a product expert working at a snowboard shop.\n",
    "    Given the user request: \"{query}\",\n",
    "    And the following product descriptions:\n",
    "\n",
    "    {chr(10).join(f\"- {name}\" for name in most_similar_docs)}\n",
    "\n",
    "    Answer the user request as **objectively** as possible, DO NOT rephrase the question asked, and DO NOT repeat the user request back to the user.\n",
    "    \"\"\"\n",
    "    return(prompt)\n",
    "\n",
    "def getModelResponse(chat, query, topI = 2):\n",
    "    prompt = get_RAG_prompt(products, query, products_embed, encode_model, topI)\n",
    "    response = chat(prompt, max_new_tokens=1000, do_sample=True, temperature=1.0)[0]['generated_text']\n",
    "    return response.replace(prompt, \"\").strip()"
   ]
  },
  {
   "cell_type": "code",
   "execution_count": 59,
   "id": "1be4d01c",
   "metadata": {},
   "outputs": [
    {
     "name": "stdout",
     "output_type": "stream",
     "text": [
      "Sure, here's the answer to the user's request:\n",
      "\n",
      "While both the Ride Deep Fake Snowboard 2025 and the Capita Black Snowboard of Death are high-performance snowboards, there are some key differences between them.\n",
      "\n",
      "- The Ride Deep Fake Snowboard 2025 has a stiffer flex pattern with a directional sidecut that provides more stability and control on hard pack. It also features lower density materials, such as Aspen and Paulownia, for enhanced lightweight and damping.\n",
      "- The Capita Black Snowboard of Death has a rocker-type directional profile with a more progressive and playful flex pattern. It also incorporates the brand's signature taper system for superior float and stability.\n",
      "\n",
      "Ultimately, the best choice between the two snowboards depends on your individual preferences and riding style. If you prioritize stability and control on hard pack, the Ride Deep Fake Snowboard 2025 might be a better fit. However, if you prefer a more playful and forgiving board that provides excellent float and stability on a variety of terrains, the Capita Black Snowboard of Death is a solid choice.\n"
     ]
    }
   ],
   "source": [
    "response = getModelResponse(chat, \"Compare the Capita Black Snowboard of Death to the Ride Deep Fake\")\n",
    "print(response)"
   ]
  }
 ],
 "metadata": {
  "kernelspec": {
   "display_name": "myenv",
   "language": "python",
   "name": "python3"
  },
  "language_info": {
   "codemirror_mode": {
    "name": "ipython",
    "version": 3
   },
   "file_extension": ".py",
   "mimetype": "text/x-python",
   "name": "python",
   "nbconvert_exporter": "python",
   "pygments_lexer": "ipython3",
   "version": "3.11.8"
  }
 },
 "nbformat": 4,
 "nbformat_minor": 5
}
